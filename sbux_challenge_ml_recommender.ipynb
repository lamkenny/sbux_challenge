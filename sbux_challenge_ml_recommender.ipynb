{
 "cells": [
  {
   "cell_type": "markdown",
   "metadata": {},
   "source": [
    "# Recommending Offer\n"
   ]
  },
  {
   "cell_type": "markdown",
   "metadata": {},
   "source": [
    "As we have seen in our data exploration and analysis, spend varies by demographic. On the other hand the plots show that by sending offers, we can influence the number purchases. However, it's difficult to tell which one has a higher influence. In this section, we'll defer to ML to assist with this. \n",
    "\n",
    "We will look into building a recommender that returns the offer that has the highest level of influence. Keep in mind that offers that have a high level of influence are offers that have a high level of user response. Given each user profile as input, the recommender will return an offer that would get the best response.\n",
    "\n",
    "We are going to train two models that learn the demographic data and their corresponding response to the offers. The first one serves as a benchmark model that provides a reference to show how well the second model performs relative to it. \n",
    "\n",
    "Our criteria is to select an alogrithm that works well with multidemnsional data and arbitrary inputs such as time, categorial and numerical data. "
   ]
  },
  {
   "cell_type": "code",
   "execution_count": 2,
   "metadata": {},
   "outputs": [],
   "source": [
    "import pandas as pd\n",
    "import numpy as np\n",
    "import math\n",
    "import json\n",
    "import matplotlib.pyplot as plt\n",
    "import seaborn as sns\n",
    "\n",
    "from sklearn.model_selection import train_test_split\n",
    "from sklearn.metrics import accuracy_score, confusion_matrix\n",
    "from sklearn.ensemble import RandomForestClassifier\n",
    "from sklearn.tree import DecisionTreeClassifier\n",
    "from sklearn.metrics import make_scorer\n",
    "from sklearn.preprocessing import LabelBinarizer\n",
    "\n",
    "%matplotlib inline"
   ]
  },
  {
   "cell_type": "markdown",
   "metadata": {},
   "source": [
    "# Defining the ML Problem\n",
    "\n",
    "We were given a list of users and their demographics and transcript data. We have cleaned and joined the data into a single dataframe that contains whether or not a user received an offer and whether or not they responded to it.\n",
    "\n",
    "There are ten offers in the portfolio. The goal is to predict which offer would most likely get a response. If a user return to the app at a later date, we'd want to know which offer to send this user. This problem can be framed as a ranking problem. For each demographic group, we will predict which offer will get the highest response and recommend that one. \n",
    "\n",
    "To account for the negative case, for users who do not need an offer but would purchase on the app anyway, we define 'no_offer'. All together, there are 11 possible outcomes: ten offers from the portfolio and 'no_offer'.\n",
    "\n",
    "We need the ability to rank the offers and pick one with the best rank. Using machine learning, we should be able assign a probability of response to each offer in order to rank them and pick one with the best rank.\n",
    "\n"
   ]
  },
  {
   "cell_type": "markdown",
   "metadata": {},
   "source": [
    "We will use a `DecisionTreeClassifier` as our benchmark model."
   ]
  },
  {
   "cell_type": "markdown",
   "metadata": {},
   "source": [
    "We will use `RandomForestClassifier` as our final model."
   ]
  },
  {
   "cell_type": "markdown",
   "metadata": {},
   "source": [
    "# Evaluation Metric\n",
    "To guage the performance of our models, we defer to NDCG (normalized discounted cumulative gain) @k. \n",
    "NDCG is defined as:\n",
    "\n",
    "$$ DCG_{k} = \\sum_{i=1}^k \\frac{2^{rel_{i}} - 1}{log_{2}(i + 1)}$$\n",
    "\n",
    "$$ {n}DCG_{k} = \\frac{DCG_{k}}{IDCG_{k}} $$\n",
    "\n",
    "$rel_{{i}}$ is the relevance of the result at position $i$\n",
    "\n",
    "${IDCG_{k}}$ is the Ideal DCG (IDCG) through position ${k}$. It produces the maximum possible DCG.\n",
    "\n",
    "${n}DCG_{k}$ is the normalized DCG at position ${k}$ calculated by the DCG value at rank ${k}$ by the ideal ranking.\n",
    "\n",
    "All normalized DCG (NDCG) values on the interval 0.0 to 1.0, where higher is better.\n",
    "\n",
    "More information about NDCG can be found at https://en.wikipedia.org/wiki/Discounted_cumulative_gain.\n",
    "\n",
    "The number of outcomes for our dataset is small, and a user don't receive very many offers, we should limit our evaluation to only the top 3 offers and thus consider k=3.\n",
    "\n",
    "In other words, our models are graded based on whether or not they get the top 3 offers right for each demographic group. It doesn't matter what order the top 3 items are in as long as they are in the top 3.\n"
   ]
  },
  {
   "cell_type": "code",
   "execution_count": 3,
   "metadata": {},
   "outputs": [],
   "source": [
    "def calculate_dcg(y, k):\n",
    "    \"\"\"Calculate DCG at k\"\"\"\n",
    "    rel = np.take(y, np.arange(k))\n",
    "    gains = 2 ** rel - 1\n",
    "    # i starts at 1 while range/index starts at 0, so plus 1\n",
    "    discounts = np.log2((np.arange(len(rel)) + 1) + 1)\n",
    "    return np.sum(gains/discounts)\n",
    "\n",
    "def calculate_ndcg(y_true, y_pred, k):\n",
    "    \"\"\"Calculate nDCG at k\"\"\"\n",
    "    ranked_indices = np.argsort(y_pred)[::-1]\n",
    "    rel = np.take(y_true, ranked_indices)\n",
    "    dcg = calculate_dcg(rel, k)\n",
    "\n",
    "    ranked_indices = np.argsort(y_true)[::-1]\n",
    "    rel = np.take(y_true, ranked_indices)\n",
    "    idcg = calculate_dcg(rel, k)\n",
    "    return dcg/idcg\n",
    "\n",
    "def evaluate(y_true, y_pred):\n",
    "    \"\"\"Evaluate y_true against y_pred using ndcg@3\"\"\"\n",
    "    k=3\n",
    "    lb = LabelBinarizer()\n",
    "    lb.fit(range(y_pred.shape[1] + 1))\n",
    "    binarized_labels = lb.transform(y_true)\n",
    "\n",
    "    scores = []\n",
    "    for y_true, y_pred in zip(binarized_labels, y_pred):\n",
    "        scores.append(calculate_ndcg(y_true, y_pred, k))\n",
    "        \n",
    "    return np.mean(scores)\n",
    "\n",
    "# Make scoring function to use with grid search\n",
    "ndcg_scoring = make_scorer(evaluate, needs_proba=True)\n"
   ]
  },
  {
   "cell_type": "code",
   "execution_count": null,
   "metadata": {},
   "outputs": [],
   "source": []
  },
  {
   "cell_type": "markdown",
   "metadata": {},
   "source": [
    "# Features and labels"
   ]
  },
  {
   "cell_type": "code",
   "execution_count": 23,
   "metadata": {},
   "outputs": [],
   "source": [
    "transactions = pd.read_csv('data/clean/transactions.csv', index_col=0)\n",
    "profile = pd.read_csv('data/clean/profile.csv', index_col=0)\n",
    "portfolio = pd.read_csv('data/clean/portfolio.csv', index_col=0)"
   ]
  },
  {
   "cell_type": "code",
   "execution_count": 24,
   "metadata": {},
   "outputs": [
    {
     "data": {
      "text/plain": [
       "Index(['person', 'time', 'amount', 'offer_id', 'receive_time', 'view_time',\n",
       "       'complete_time', 'time_expire', 'channels', 'difficulty', 'duration',\n",
       "       'offer_type', 'reward', 'validity', 'influenced_by_bogo',\n",
       "       'influenced_by_discount', 'influenced_by_info', 'age_x',\n",
       "       'became_member_on_x', 'gender_x', 'income_x', 'avg_income_x',\n",
       "       'age_bracket_x', 'income_bracket_x', 'age_y', 'became_member_on_y',\n",
       "       'gender_y', 'income_y', 'avg_income_y', 'age_bracket_y',\n",
       "       'income_bracket_y', 'age', 'became_member_on', 'gender', 'income',\n",
       "       'avg_income', 'age_bracket', 'income_bracket'],\n",
       "      dtype='object')"
      ]
     },
     "execution_count": 24,
     "metadata": {},
     "output_type": "execute_result"
    }
   ],
   "source": [
    "transactions.columns"
   ]
  },
  {
   "cell_type": "code",
   "execution_count": 25,
   "metadata": {},
   "outputs": [],
   "source": [
    "ml_data = transactions[[\n",
    "    'offer_id', 'became_member_on', 'age', 'gender', 'income', 'influenced_by_info',\n",
    "       'influenced_by_bogo', 'influenced_by_discount',\n",
    "]]"
   ]
  },
  {
   "cell_type": "code",
   "execution_count": 26,
   "metadata": {},
   "outputs": [],
   "source": [
    "# ml_data['became_member_year_mon'] = ml_data['became_member_on'].apply(lambda x: round(x/100))\n",
    "# ml_data['became_member_year'] = ml_data['became_member_on'].apply(lambda x: round(x/10000))\n",
    "# ml_data = ml_data.merge(portfolio[['offer_id', 'difficulty', 'reward', 'offer_type']], on='offer_id', how='left')\n",
    "# ml_data['difficulty'].fillna(0, inplace=True)\n",
    "# ml_data['reward'].fillna(0, inplace=True)\n",
    "# ml_data['offer_type'].fillna('no_an_offer', inplace=True)"
   ]
  },
  {
   "cell_type": "code",
   "execution_count": 27,
   "metadata": {},
   "outputs": [],
   "source": [
    "ml_data = ml_data[ml_data['offer_id'].notnull()]"
   ]
  },
  {
   "cell_type": "code",
   "execution_count": 28,
   "metadata": {},
   "outputs": [],
   "source": [
    "# Make sure there are no null values.\n",
    "ml_data['influenced_by_info'].fillna(False, inplace=True)\n",
    "ml_data['influenced_by_bogo'].fillna(False, inplace=True)\n",
    "ml_data['influenced_by_discount'].fillna(False, inplace=True)"
   ]
  },
  {
   "cell_type": "code",
   "execution_count": 29,
   "metadata": {},
   "outputs": [],
   "source": [
    "def get_influenced_offer(row):\n",
    "    \"\"\"Get the offer_id that influenced the transaction\"\"\"\n",
    "    if row['influenced_by_info'] or row['influenced_by_bogo'] or row['influenced_by_discount']:\n",
    "        return row['offer_id']\n",
    "    else:\n",
    "        return 'no_offer'\n",
    "ml_data['offer_id'] = ml_data.apply(get_influenced_offer,axis=1)"
   ]
  },
  {
   "cell_type": "code",
   "execution_count": 30,
   "metadata": {},
   "outputs": [
    {
     "data": {
      "text/plain": [
       "offer_id                  0\n",
       "became_member_on          0\n",
       "age                       0\n",
       "gender                    0\n",
       "income                    0\n",
       "influenced_by_info        0\n",
       "influenced_by_bogo        0\n",
       "influenced_by_discount    0\n",
       "dtype: int64"
      ]
     },
     "execution_count": 30,
     "metadata": {},
     "output_type": "execute_result"
    }
   ],
   "source": [
    "ml_data.isna().sum()"
   ]
  },
  {
   "cell_type": "code",
   "execution_count": null,
   "metadata": {},
   "outputs": [],
   "source": []
  },
  {
   "cell_type": "code",
   "execution_count": 31,
   "metadata": {},
   "outputs": [],
   "source": [
    "# Convert gender to numeric\n",
    "dummies = pd.get_dummies(ml_data['gender'], drop_first=True, prefix='gender')\n",
    "ml_data = pd.concat([ml_data, dummies], axis=1)\n"
   ]
  },
  {
   "cell_type": "code",
   "execution_count": 32,
   "metadata": {},
   "outputs": [],
   "source": [
    "# Get numeric representation of the labels\n",
    "offer_labels, offer_definitions = pd.factorize(ml_data['offer_id'])\n",
    "ml_data['offer_label'] = offer_labels\n",
    "\n"
   ]
  },
  {
   "cell_type": "code",
   "execution_count": 33,
   "metadata": {},
   "outputs": [],
   "source": [
    "# Save factorized labels and offers so that we can use for in the webapp.\n",
    "offers_to_save = ml_data[['offer_label', 'offer_id']].merge(portfolio, on='offer_id', how='left').drop_duplicates()\n",
    "offers_to_save.to_json('data/app/offers.json', orient='records', lines=True)"
   ]
  },
  {
   "cell_type": "code",
   "execution_count": 34,
   "metadata": {},
   "outputs": [],
   "source": [
    "ml_data[['gender', 'became_member_on', 'age', 'income']].drop_duplicates().to_json('data/app/demographics.json', orient='records', lines=True)\n",
    "# ml_data[['age']].drop_duplicates().to_json('data/app/age.json', orient='records', lines=True)\n"
   ]
  },
  {
   "cell_type": "code",
   "execution_count": 35,
   "metadata": {},
   "outputs": [
    {
     "data": {
      "text/plain": [
       "Index(['offer_id', 'became_member_on', 'age', 'gender', 'income',\n",
       "       'influenced_by_info', 'influenced_by_bogo', 'influenced_by_discount',\n",
       "       'gender_M', 'gender_O', 'gender_U', 'offer_label'],\n",
       "      dtype='object')"
      ]
     },
     "execution_count": 35,
     "metadata": {},
     "output_type": "execute_result"
    }
   ],
   "source": [
    "ml_data.columns"
   ]
  },
  {
   "cell_type": "code",
   "execution_count": 36,
   "metadata": {},
   "outputs": [],
   "source": [
    "ml_data = ml_data[['age', 'income', 'became_member_on',\n",
    "                   'gender_M', 'gender_O', 'gender_U', \n",
    "                   'offer_label']]"
   ]
  },
  {
   "cell_type": "code",
   "execution_count": 37,
   "metadata": {},
   "outputs": [],
   "source": [
    "X = ml_data.drop('offer_label', axis=1)\n",
    "y = ml_data[['offer_label']]\n"
   ]
  },
  {
   "cell_type": "markdown",
   "metadata": {},
   "source": [
    "Perform 80/20 train-test split"
   ]
  },
  {
   "cell_type": "code",
   "execution_count": 38,
   "metadata": {},
   "outputs": [],
   "source": [
    "X_train, X_test, y_train, y_test = train_test_split(X, y, test_size=0.2, random_state=42)"
   ]
  },
  {
   "cell_type": "code",
   "execution_count": 39,
   "metadata": {},
   "outputs": [],
   "source": [
    "X.to_csv('data/clean/X.csv')\n",
    "y.to_csv('data/clean/y.csv')\n",
    "X_train.to_csv('data/clean/X_train.csv')\n",
    "y_train.to_csv('data/clean/y_train.csv')\n",
    "X_test.to_csv('data/clean/X_test.csv')\n",
    "y_test.to_csv('data/clean/y_test.csv')\n",
    "\n"
   ]
  },
  {
   "cell_type": "markdown",
   "metadata": {},
   "source": [
    "# Decision Tree"
   ]
  },
  {
   "cell_type": "code",
   "execution_count": 22,
   "metadata": {},
   "outputs": [],
   "source": [
    "dt = DecisionTreeClassifier(max_depth=12, random_state=42)"
   ]
  },
  {
   "cell_type": "code",
   "execution_count": 23,
   "metadata": {},
   "outputs": [
    {
     "data": {
      "text/plain": [
       "DecisionTreeClassifier(class_weight=None, criterion='gini', max_depth=12,\n",
       "            max_features=None, max_leaf_nodes=None,\n",
       "            min_impurity_decrease=0.0, min_impurity_split=None,\n",
       "            min_samples_leaf=1, min_samples_split=2,\n",
       "            min_weight_fraction_leaf=0.0, presort=False, random_state=42,\n",
       "            splitter='best')"
      ]
     },
     "execution_count": 23,
     "metadata": {},
     "output_type": "execute_result"
    }
   ],
   "source": [
    "dt.fit(X_train, y_train)"
   ]
  },
  {
   "cell_type": "code",
   "execution_count": 24,
   "metadata": {},
   "outputs": [
    {
     "data": {
      "text/plain": [
       "array([0.27749957, 0.26493078, 0.40514893, 0.04473878, 0.00768194,\n",
       "       0.        ])"
      ]
     },
     "execution_count": 24,
     "metadata": {},
     "output_type": "execute_result"
    }
   ],
   "source": [
    "dt.feature_importances_"
   ]
  },
  {
   "cell_type": "code",
   "execution_count": 25,
   "metadata": {},
   "outputs": [
    {
     "data": {
      "text/plain": [
       "Index(['age', 'income', 'became_member_on', 'gender_M', 'gender_O',\n",
       "       'gender_U'],\n",
       "      dtype='object')"
      ]
     },
     "execution_count": 25,
     "metadata": {},
     "output_type": "execute_result"
    }
   ],
   "source": [
    "X.columns"
   ]
  },
  {
   "cell_type": "code",
   "execution_count": 26,
   "metadata": {},
   "outputs": [
    {
     "data": {
      "text/plain": [
       "<matplotlib.axes._subplots.AxesSubplot at 0x1a20361f98>"
      ]
     },
     "execution_count": 26,
     "metadata": {},
     "output_type": "execute_result"
    },
    {
     "data": {
      "image/png": "[encoded data removed]",
      "text/plain": [
       "<Figure size 432x288 with 1 Axes>"
      ]
     },
     "metadata": {
      "needs_background": "light"
     },
     "output_type": "display_data"
    }
   ],
   "source": [
    "pd.DataFrame({'features': X.columns, 'importance': dt.feature_importances_}).sort_values('importance', ascending=False).plot.barh(x='features', y='importance')"
   ]
  },
  {
   "cell_type": "raw",
   "metadata": {},
   "source": [
    "Interesting to see `became_member_on` has the highest predictive power."
   ]
  },
  {
   "cell_type": "code",
   "execution_count": null,
   "metadata": {},
   "outputs": [],
   "source": []
  },
  {
   "cell_type": "code",
   "execution_count": 29,
   "metadata": {},
   "outputs": [
    {
     "name": "stdout",
     "output_type": "stream",
     "text": [
      "nDCG@3: 0.588288652671588\n"
     ]
    }
   ],
   "source": [
    "y_pred = dt.predict_proba(X_test)\n",
    "print('nDCG@3: {}'.format(evaluate(y_test, y_pred)))\n"
   ]
  },
  {
   "cell_type": "markdown",
   "metadata": {},
   "source": [
    "Our baseline nDCG@3 is 0.59"
   ]
  },
  {
   "cell_type": "markdown",
   "metadata": {},
   "source": [
    "# Random Forest"
   ]
  },
  {
   "cell_type": "code",
   "execution_count": 30,
   "metadata": {},
   "outputs": [
    {
     "data": {
      "text/plain": [
       "RandomForestClassifier(bootstrap=True, class_weight=None, criterion='gini',\n",
       "            max_depth=12, max_features='auto', max_leaf_nodes=None,\n",
       "            min_impurity_decrease=0.0, min_impurity_split=None,\n",
       "            min_samples_leaf=1, min_samples_split=2,\n",
       "            min_weight_fraction_leaf=0.0, n_estimators=1000, n_jobs=-1,\n",
       "            oob_score=False, random_state=42, verbose=0, warm_start=False)"
      ]
     },
     "execution_count": 30,
     "metadata": {},
     "output_type": "execute_result"
    }
   ],
   "source": [
    "rf = RandomForestClassifier(n_estimators=1000, max_depth=12, random_state=42, n_jobs=-1)\n",
    "rf.fit(X_train, y_train)"
   ]
  },
  {
   "cell_type": "code",
   "execution_count": 31,
   "metadata": {},
   "outputs": [
    {
     "name": "stdout",
     "output_type": "stream",
     "text": [
      "nDCG@3: 0.6237672426784215\n"
     ]
    }
   ],
   "source": [
    "y_pred = rf.predict_proba(X_test)\n",
    "print('nDCG@3: {}'.format(evaluate(y_test, y_pred)))\n"
   ]
  },
  {
   "cell_type": "markdown",
   "metadata": {},
   "source": [
    "Slightly better than decision tree. Need to tune hyperparameters."
   ]
  },
  {
   "cell_type": "markdown",
   "metadata": {},
   "source": [
    "Before we tune hyperparameters, let's do a sniff test to make sure we constructed the correct ML model. We need to make sure that it's actually recommending the best offer."
   ]
  },
  {
   "cell_type": "code",
   "execution_count": 32,
   "metadata": {},
   "outputs": [
    {
     "data": {
      "text/plain": [
       "(86225, 7)"
      ]
     },
     "execution_count": 32,
     "metadata": {},
     "output_type": "execute_result"
    }
   ],
   "source": [
    "ml_data.shape"
   ]
  },
  {
   "cell_type": "code",
   "execution_count": 33,
   "metadata": {},
   "outputs": [
    {
     "data": {
      "text/html": [
       "<div>\n",
       "<style scoped>\n",
       "    .dataframe tbody tr th:only-of-type {\n",
       "        vertical-align: middle;\n",
       "    }\n",
       "\n",
       "    .dataframe tbody tr th {\n",
       "        vertical-align: top;\n",
       "    }\n",
       "\n",
       "    .dataframe thead th {\n",
       "        text-align: right;\n",
       "    }\n",
       "</style>\n",
       "<table border=\"1\" class=\"dataframe\">\n",
       "  <thead>\n",
       "    <tr style=\"text-align: right;\">\n",
       "      <th></th>\n",
       "      <th>age</th>\n",
       "      <th>income</th>\n",
       "      <th>became_member_on</th>\n",
       "      <th>gender_M</th>\n",
       "      <th>gender_O</th>\n",
       "      <th>gender_U</th>\n",
       "      <th>offer_label</th>\n",
       "    </tr>\n",
       "  </thead>\n",
       "  <tbody>\n",
       "    <tr>\n",
       "      <th>151240</th>\n",
       "      <td>65</td>\n",
       "      <td>59000.0</td>\n",
       "      <td>20131207</td>\n",
       "      <td>0</td>\n",
       "      <td>0</td>\n",
       "      <td>0</td>\n",
       "      <td>9</td>\n",
       "    </tr>\n",
       "  </tbody>\n",
       "</table>\n",
       "</div>"
      ],
      "text/plain": [
       "        age   income  became_member_on  gender_M  gender_O  gender_U  \\\n",
       "151240   65  59000.0          20131207         0         0         0   \n",
       "\n",
       "        offer_label  \n",
       "151240            9  "
      ]
     },
     "execution_count": 33,
     "metadata": {},
     "output_type": "execute_result"
    }
   ],
   "source": [
    "ml_data[86000:].head(1)"
   ]
  },
  {
   "cell_type": "markdown",
   "metadata": {},
   "source": [
    "Let's try recommending offer for demographic group where age=118, income=67800 and became_member_on=20160219"
   ]
  },
  {
   "cell_type": "code",
   "execution_count": 34,
   "metadata": {},
   "outputs": [],
   "source": [
    "tmp_X = ml_data[\n",
    "    (ml_data['age']==65) &\n",
    "    (ml_data['income']==59000.0) &\n",
    "    (ml_data['became_member_on']==20131207) &\n",
    "    (ml_data['gender_M']==0) &\n",
    "    (ml_data['gender_O']==0) &\n",
    "    (ml_data['gender_U']==0)\n",
    "]"
   ]
  },
  {
   "cell_type": "code",
   "execution_count": 37,
   "metadata": {},
   "outputs": [
    {
     "data": {
      "text/plain": [
       "<matplotlib.axes._subplots.AxesSubplot at 0x1a1ea76b38>"
      ]
     },
     "execution_count": 37,
     "metadata": {},
     "output_type": "execute_result"
    },
    {
     "data": {
      "image/png": "[encoded data removed]",
      "text/plain": [
       "<Figure size 432x288 with 1 Axes>"
      ]
     },
     "metadata": {
      "needs_background": "light"
     },
     "output_type": "display_data"
    }
   ],
   "source": [
    "tmp_X.groupby(['offer_label'])['offer_label'].count().plot.bar()"
   ]
  },
  {
   "cell_type": "code",
   "execution_count": 38,
   "metadata": {},
   "outputs": [
    {
     "data": {
      "text/plain": [
       "offer_label\n",
       "1     2\n",
       "2     1\n",
       "5     1\n",
       "6     1\n",
       "7     1\n",
       "9    14\n",
       "Name: offer_label, dtype: int64"
      ]
     },
     "execution_count": 38,
     "metadata": {},
     "output_type": "execute_result"
    }
   ],
   "source": [
    "tmp_X.groupby(['offer_label'])['offer_label'].count()"
   ]
  },
  {
   "cell_type": "markdown",
   "metadata": {},
   "source": [
    "Base on this plot, offer with label 9 should be returned, since it has the highest bar relative to all the other ones.\n",
    "For nDCG@3, we're looking for releavant top 3 items. That's either 9, 1 or any of [2,5,6,7] since they're equal. But because 9 far beats all others, as long as we get 9, we can say that our ML model is working."
   ]
  },
  {
   "cell_type": "code",
   "execution_count": 36,
   "metadata": {},
   "outputs": [
    {
     "data": {
      "text/plain": [
       "array([9, 9, 9, 9, 9, 9, 9, 9, 9, 9, 9, 9, 9, 9, 9, 9, 9, 9, 9, 9])"
      ]
     },
     "execution_count": 36,
     "metadata": {},
     "output_type": "execute_result"
    }
   ],
   "source": [
    "rf.predict(tmp_X.drop('offer_label', axis=1))"
   ]
  },
  {
   "cell_type": "markdown",
   "metadata": {},
   "source": [
    "👍"
   ]
  },
  {
   "cell_type": "markdown",
   "metadata": {},
   "source": [
    "# Tuning Hyperparameters"
   ]
  },
  {
   "cell_type": "markdown",
   "metadata": {},
   "source": [
    "## Random search"
   ]
  },
  {
   "cell_type": "markdown",
   "metadata": {},
   "source": [
    "Since we don't know where to start, use `RandomSearchCV` to randomly sample from the grid to narrow down the search. "
   ]
  },
  {
   "cell_type": "code",
   "execution_count": 2314,
   "metadata": {},
   "outputs": [],
   "source": [
    "n_estimators = [int(x) for x in np.linspace(start = 200, stop = 2000, num = 100)]\n",
    "max_depth = [int(x) for x in np.linspace(10, 110, num = 20)]\n",
    "max_depth.append(None)\n",
    "grid = {'n_estimators': n_estimators,\n",
    "               'max_features': ['auto', 'sqrt'],\n",
    "               'max_depth': max_depth,\n",
    "               'min_samples_split': [2, 4, 8],\n",
    "               'min_samples_leaf': [1, 2, 4],\n",
    "               'bootstrap': [True, False]}\n"
   ]
  },
  {
   "cell_type": "code",
   "execution_count": 2315,
   "metadata": {},
   "outputs": [],
   "source": [
    "from sklearn.model_selection import RandomizedSearchCV\n",
    "rf = RandomForestClassifier(n_estimators=1000, max_depth=12, random_state=42, n_jobs=-1)\n",
    "random_search = RandomizedSearchCV(estimator=rf, param_distributions=grid, n_iter=80, cv=2, verbose=10, random_state=42, n_jobs=-1, scoring=ndcg_scoring)\n"
   ]
  },
  {
   "cell_type": "code",
   "execution_count": 2316,
   "metadata": {},
   "outputs": [
    {
     "name": "stdout",
     "output_type": "stream",
     "text": [
      "Fitting 2 folds for each of 80 candidates, totalling 160 fits\n"
     ]
    },
    {
     "name": "stderr",
     "output_type": "stream",
     "text": [
      "[Parallel(n_jobs=-1)]: Using backend LokyBackend with 8 concurrent workers.\n",
      "[Parallel(n_jobs=-1)]: Done   2 tasks      | elapsed:  1.8min\n",
      "[Parallel(n_jobs=-1)]: Done   9 tasks      | elapsed:  4.6min\n",
      "[Parallel(n_jobs=-1)]: Done  16 tasks      | elapsed:  6.0min\n",
      "/anaconda3/lib/python3.6/site-packages/sklearn/externals/joblib/externals/loky/process_executor.py:706: UserWarning: A worker stopped while some jobs were given to the executor. This can be caused by a too short worker timeout or by a memory leak.\n",
      "  \"timeout or by a memory leak.\", UserWarning\n",
      "/anaconda3/lib/python3.6/site-packages/sklearn/externals/joblib/externals/loky/process_executor.py:706: UserWarning: A worker stopped while some jobs were given to the executor. This can be caused by a too short worker timeout or by a memory leak.\n",
      "  \"timeout or by a memory leak.\", UserWarning\n",
      "[Parallel(n_jobs=-1)]: Done  25 tasks      | elapsed:  7.9min\n",
      "[Parallel(n_jobs=-1)]: Done  34 tasks      | elapsed:  9.4min\n",
      "[Parallel(n_jobs=-1)]: Done  45 tasks      | elapsed: 11.8min\n",
      "[Parallel(n_jobs=-1)]: Done  56 tasks      | elapsed: 13.8min\n",
      "[Parallel(n_jobs=-1)]: Done  69 tasks      | elapsed: 18.4min\n",
      "[Parallel(n_jobs=-1)]: Done  82 tasks      | elapsed: 23.2min\n",
      "[Parallel(n_jobs=-1)]: Done  97 tasks      | elapsed: 27.4min\n",
      "[Parallel(n_jobs=-1)]: Done 112 tasks      | elapsed: 30.5min\n",
      "[Parallel(n_jobs=-1)]: Done 129 tasks      | elapsed: 35.1min\n",
      "/anaconda3/lib/python3.6/site-packages/sklearn/externals/joblib/externals/loky/process_executor.py:706: UserWarning: A worker stopped while some jobs were given to the executor. This can be caused by a too short worker timeout or by a memory leak.\n",
      "  \"timeout or by a memory leak.\", UserWarning\n",
      "/anaconda3/lib/python3.6/site-packages/sklearn/externals/joblib/externals/loky/process_executor.py:706: UserWarning: A worker stopped while some jobs were given to the executor. This can be caused by a too short worker timeout or by a memory leak.\n",
      "  \"timeout or by a memory leak.\", UserWarning\n",
      "/anaconda3/lib/python3.6/site-packages/sklearn/externals/joblib/externals/loky/process_executor.py:706: UserWarning: A worker stopped while some jobs were given to the executor. This can be caused by a too short worker timeout or by a memory leak.\n",
      "  \"timeout or by a memory leak.\", UserWarning\n",
      "[Parallel(n_jobs=-1)]: Done 160 out of 160 | elapsed: 43.2min finished\n"
     ]
    },
    {
     "data": {
      "text/plain": [
       "RandomizedSearchCV(cv=2, error_score='raise-deprecating',\n",
       "          estimator=RandomForestClassifier(bootstrap=True, class_weight=None, criterion='gini',\n",
       "            max_depth=12, max_features='auto', max_leaf_nodes=None,\n",
       "            min_impurity_decrease=0.0, min_impurity_split=None,\n",
       "            min_samples_leaf=1, min_samples_split=2,\n",
       "            min_weight_fraction_leaf=0.0, n_estimators=1000, n_jobs=-1,\n",
       "            oob_score=False, random_state=42, verbose=0, warm_start=False),\n",
       "          fit_params=None, iid='warn', n_iter=80, n_jobs=-1,\n",
       "          param_distributions={'n_estimators': [200, 218, 236, 254, 272, 290, 309, 327, 345, 363, 381, 400, 418, 436, 454, 472, 490, 509, 527, 545, 563, 581, 600, 618, 636, 654, 672, 690, 709, 727, 745, 763, 781, 800, 818, 836, 854, 872, 890, 909, 927, 945, 963, 981, 1000, 1018, 1036, 1054, 1072, 1090, 1109, ...0, None], 'min_samples_split': [2, 4, 8], 'min_samples_leaf': [1, 2, 4], 'bootstrap': [True, False]},\n",
       "          pre_dispatch='2*n_jobs', random_state=42, refit=True,\n",
       "          return_train_score='warn',\n",
       "          scoring=make_scorer(evaluate, needs_proba=True), verbose=10)"
      ]
     },
     "execution_count": 2316,
     "metadata": {},
     "output_type": "execute_result"
    }
   ],
   "source": [
    "random_search.fit(X_train, y_train)"
   ]
  },
  {
   "cell_type": "code",
   "execution_count": 2317,
   "metadata": {},
   "outputs": [
    {
     "name": "stdout",
     "output_type": "stream",
     "text": [
      "Best model from random search, nDCG@3: 0.6813996584906634\n"
     ]
    }
   ],
   "source": [
    "best_rf = random_search.best_estimator_\n",
    "print('Best model from random search, nDCG@3: {}'.format(evaluate(y_test, best_rf.predict_proba(X_test))))"
   ]
  },
  {
   "cell_type": "code",
   "execution_count": 2320,
   "metadata": {},
   "outputs": [
    {
     "data": {
      "text/plain": [
       "{'n_estimators': 1836,\n",
       " 'min_samples_split': 8,\n",
       " 'min_samples_leaf': 1,\n",
       " 'max_features': 'auto',\n",
       " 'max_depth': 20,\n",
       " 'bootstrap': True}"
      ]
     },
     "execution_count": 2320,
     "metadata": {},
     "output_type": "execute_result"
    }
   ],
   "source": [
    "random_search.best_params_"
   ]
  },
  {
   "cell_type": "code",
   "execution_count": null,
   "metadata": {},
   "outputs": [],
   "source": []
  },
  {
   "cell_type": "markdown",
   "metadata": {},
   "source": [
    "## Grid Search"
   ]
  },
  {
   "cell_type": "markdown",
   "metadata": {},
   "source": [
    "From random search, we have an idea of where the best params are. We'll use it as guidance for picking hyperparameters."
   ]
  },
  {
   "cell_type": "markdown",
   "metadata": {},
   "source": [
    "Create a new grid based on the best params from random search."
   ]
  },
  {
   "cell_type": "code",
   "execution_count": 2420,
   "metadata": {},
   "outputs": [],
   "source": [
    "grid = {'n_estimators': [1800, 2000, 2200],\n",
    "               'max_features': ['auto'],\n",
    "               'max_depth': [20, 25, 30],\n",
    "               'min_samples_split': [8, 10, 12],\n",
    "               'min_samples_leaf': [1, 5, 10],\n",
    "               'bootstrap': [True]}"
   ]
  },
  {
   "cell_type": "code",
   "execution_count": null,
   "metadata": {},
   "outputs": [],
   "source": [
    "from sklearn.model_selection import GridSearchCV\n",
    "rf = RandomForestClassifier(n_estimators=1000, max_depth=12, random_state=42, n_jobs=-1)\n",
    "grid_search = GridSearchCV(estimator=rf, param_grid=grid, cv = 3, verbose=10, n_jobs=-1, scoring=ndcg_scoring)\n"
   ]
  },
  {
   "cell_type": "code",
   "execution_count": null,
   "metadata": {},
   "outputs": [
    {
     "name": "stdout",
     "output_type": "stream",
     "text": [
      "Fitting 3 folds for each of 81 candidates, totalling 243 fits\n"
     ]
    },
    {
     "name": "stderr",
     "output_type": "stream",
     "text": [
      "[Parallel(n_jobs=-1)]: Using backend LokyBackend with 8 concurrent workers.\n"
     ]
    }
   ],
   "source": [
    "grid_search.fit(X_train, y_train)"
   ]
  },
  {
   "cell_type": "code",
   "execution_count": 2327,
   "metadata": {},
   "outputs": [
    {
     "data": {
      "text/plain": [
       "{'bootstrap': True,\n",
       " 'max_depth': 25,\n",
       " 'max_features': 'auto',\n",
       " 'min_samples_leaf': 2,\n",
       " 'min_samples_split': 10,\n",
       " 'n_estimators': 2000}"
      ]
     },
     "execution_count": 2327,
     "metadata": {},
     "output_type": "execute_result"
    }
   ],
   "source": [
    "grid_search.best_params_"
   ]
  },
  {
   "cell_type": "code",
   "execution_count": 2328,
   "metadata": {},
   "outputs": [],
   "source": [
    "best_rf = grid_search.best_estimator_"
   ]
  },
  {
   "cell_type": "code",
   "execution_count": 2329,
   "metadata": {},
   "outputs": [
    {
     "data": {
      "text/plain": [
       "0.6826561898997674"
      ]
     },
     "execution_count": 2329,
     "metadata": {},
     "output_type": "execute_result"
    }
   ],
   "source": [
    "evaluate(y_test, best_rf.predict_proba(X_test))"
   ]
  },
  {
   "cell_type": "markdown",
   "metadata": {},
   "source": [
    "Better than our benchmark `DecisionTreeClassifier` of 0.59 and our initial `RandomForestClassifier` of 0.62.\n",
    "Going from 0.59 to 0.68 is a 15% improvement."
   ]
  },
  {
   "cell_type": "code",
   "execution_count": null,
   "metadata": {},
   "outputs": [],
   "source": []
  },
  {
   "cell_type": "markdown",
   "metadata": {},
   "source": [
    "Save the model for webapp"
   ]
  },
  {
   "cell_type": "code",
   "execution_count": 2331,
   "metadata": {},
   "outputs": [],
   "source": [
    "import pickle\n",
    "import bz2\n",
    "with bz2.BZ2File('models/rf.pkl.bz2', 'w') as file:\n",
    "    pickle.dump(best_rf, file)"
   ]
  },
  {
   "cell_type": "code",
   "execution_count": null,
   "metadata": {},
   "outputs": [],
   "source": []
  },
  {
   "cell_type": "code",
   "execution_count": null,
   "metadata": {},
   "outputs": [],
   "source": []
  },
  {
   "cell_type": "markdown",
   "metadata": {},
   "source": [
    "# Reflection\n",
    "We only train DecisionTree and RandomForest here. It's expected that RandomForest, which is an ensemble of many decision trees, to perform better than a single decision. However, nDCG@3 score of 0.68 feels like there is room for improvement. We haven't exhausted the learning. We can further explore other algorithms, for example, XGBoost and multi-layer perceptron neural networks. As a future |, we should train multiple models, stack their learning and combine their predictions."
   ]
  },
  {
   "cell_type": "code",
   "execution_count": null,
   "metadata": {},
   "outputs": [],
   "source": []
  },
  {
   "cell_type": "code",
   "execution_count": null,
   "metadata": {},
   "outputs": [],
   "source": []
  },
  {
   "cell_type": "code",
   "execution_count": null,
   "metadata": {},
   "outputs": [],
   "source": []
  }
 ],
 "metadata": {
  "kernelspec": {
   "display_name": "Python 3",
   "language": "python",
   "name": "python3"
  },
  "language_info": {
   "codemirror_mode": {
    "name": "ipython",
    "version": 3
   },
   "file_extension": ".py",
   "mimetype": "text/x-python",
   "name": "python",
   "nbconvert_exporter": "python",
   "pygments_lexer": "ipython3",
   "version": "3.7.1"
  }
 },
 "nbformat": 4,
 "nbformat_minor": 2
}
